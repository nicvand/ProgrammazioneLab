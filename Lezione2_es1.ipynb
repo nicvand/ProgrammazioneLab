{
 "cells": [
  {
   "cell_type": "markdown",
   "metadata": {},
   "source": [
    "### **1. Indicizzazione booleana**\n",
    "\n",
    "1. Creare un nuovo vettore con tutti i numeri primi tra 0 e 20. I numeri primi compresi tra 0 e 20 sono: **2, 3, 5, 7, 11, 13, 17, 19**.\n",
    "\n",
    "2. Utilizza un test logico (ad esempio `>`, `<`, `==`, `!=`) per **selezionare tutte le voci del vettore maggiori di 10**.\n",
    "\n",
    "3. Utilizza un test logico per selezionare **tutti i numeri primi pari** dalla lista.  \n"
   ]
  },
  {
   "cell_type": "code",
   "execution_count": null,
   "metadata": {},
   "outputs": [
    {
     "name": "stdout",
     "output_type": "stream",
     "text": [
      "Numeri primi tra 0 e 20: [2, 3, 5, 7, 11, 13, 17, 19]\n",
      "Numeri primi maggiori di 10: [11, 13, 17, 19]\n",
      "Numeri psrimi pari: [2]\n"
     ]
    }
   ],
   "source": [
    "# 1. Crea la lista dei numeri primi tra 0 e 20\n",
    "num_primi = [2, 3, 5, 7, 11, 13, 17, 19]\n",
    "\n",
    "# 2. Numeri maggiori di 10\n",
    "maggiori_10 = [n for n in num_primi if n > 10]\n",
    "\n",
    "# 3. Numeri primi pari\n",
    "primi_pari = [n for n in num_primi if n % 2 == 0]\n",
    "\n",
    "print(\"Numeri primi tra 0 e 20:\", num_primi)\n",
    "print(\"Numeri primi maggiori di 10:\", maggiori_10)\n",
    "print(\"Numeri primi pari:\", primi_pari)"
   ]
  }
 ],
 "metadata": {
  "kernelspec": {
   "display_name": "base",
   "language": "python",
   "name": "python3"
  },
  "language_info": {
   "codemirror_mode": {
    "name": "ipython",
    "version": 3
   },
   "file_extension": ".py",
   "mimetype": "text/x-python",
   "name": "python",
   "nbconvert_exporter": "python",
   "pygments_lexer": "ipython3",
   "version": "3.12.3"
  }
 },
 "nbformat": 4,
 "nbformat_minor": 2
}
