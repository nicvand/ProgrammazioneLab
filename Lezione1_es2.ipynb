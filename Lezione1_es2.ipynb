{
 "cells": [
  {
   "cell_type": "markdown",
   "metadata": {},
   "source": [
    "### **2. Vettore di Numeri Primi**\n",
    "\n",
    "1. **Crea un vettore** contenente tutti i numeri primi compresi tra **0 e 10**  \n",
    "   _(Puoi scriverli direttamente nell'array)._\n",
    "\n",
    "2. **Conta quanti numeri ci sono nel vettore** utilizzando la funzione `len()`.  **Ottieni lo stesso numero** accedendo all'attributo `.size` del vettore.\n",
    "\n",
    "3. Quale pensi sia il tipo di dato (`dtype`) del vettore?  Prova a rispondere senza eseguire il codice e Verifica la tua risposta accedendo all'attributo `.dtype` del vettore\n",
    "\n",
    "4. Scrivi l'array usando una list comprehension che controlla che i numeri siano primi. "
   ]
  },
  {
   "cell_type": "code",
   "execution_count": null,
   "metadata": {},
   "outputs": [],
   "source": [
    "import numpy as np\n",
    "\n",
    "# Creo un vettore contenente tutti i numeri primi compresi tra 0 e 10\n",
    "vettore = np.array([2, 3, 5, 7])\n",
    "print(vettore)\n",
    "\n",
    "# Conto i numeri nel vettore usando len()\n",
    "print(len(vettore))\n",
    "# Conto i numeri nel vettore accedendo all'attributo .size del vettore\n",
    "print(vettore.size)\n",
    "\n",
    "# Il vettore contiene solo numeri interi, quindi mi aspetto un intero come tipo di dato\n",
    "print(vettore.dtype)\n",
    "\n",
    "# Array con list comprehension\n",
    "def primo(x):\n",
    "    cont = 0\n",
    "    i = x\n",
    "    while i > 0:\n",
    "        if x % i == 0:\n",
    "            cont += 1\n",
    "        i -= 1\n",
    "    return cont == 2\n",
    "\n",
    "vettore1 = np.array([i for i in range(11) if primo(i)])\n",
    "print(vettore1)"
   ]
  }
 ],
 "metadata": {
  "kernelspec": {
   "display_name": "base",
   "language": "python",
   "name": "python3"
  },
  "language_info": {
   "codemirror_mode": {
    "name": "ipython",
    "version": 3
   },
   "file_extension": ".py",
   "mimetype": "text/x-python",
   "name": "python",
   "nbconvert_exporter": "python",
   "pygments_lexer": "ipython3",
   "version": "3.12.7"
  }
 },
 "nbformat": 4,
 "nbformat_minor": 2
}
