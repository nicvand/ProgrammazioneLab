{
 "cells": [
  {
   "cell_type": "markdown",
   "id": "640ee914",
   "metadata": {},
   "source": [
    "### Es2. \n",
    "Costruisci una web app con Dash che permette all’utente di scegliere il grado del polinomio per adattare un modello di regressione ai dati non lineari e vedere il risultato aggiornarsi dinamicamente.\n",
    "\n",
    "\n",
    "1. Genera 100 punti x tra -3 e 3.\n",
    "\n",
    "2. Calcola ad esempio y = x³ - x + rumore.\n",
    "\n",
    "3. Costruisci un'interfaccia Dash con:\n",
    "    - uno slider per scegliere il grado del polinomio (1–10),\n",
    "    - un grafico Plotly che mostra i dati e la curva stimata.\n",
    "\n",
    "4. Usa PolynomialFeatures + LinearRegression da scikit-learn per stimare la curva"
   ]
  },
  {
   "cell_type": "code",
   "execution_count": 2,
   "id": "02d7b7c5",
   "metadata": {},
   "outputs": [
    {
     "data": {
      "text/html": [
       "\n",
       "        <iframe\n",
       "            width=\"100%\"\n",
       "            height=\"650\"\n",
       "            src=\"http://127.0.0.1:8050/\"\n",
       "            frameborder=\"0\"\n",
       "            allowfullscreen\n",
       "            \n",
       "        ></iframe>\n",
       "        "
      ],
      "text/plain": [
       "<IPython.lib.display.IFrame at 0x229d4ad7e90>"
      ]
     },
     "metadata": {},
     "output_type": "display_data"
    }
   ],
   "source": [
    "import dash\n",
    "from dash import dcc, html\n",
    "from dash.dependencies import Input, Output\n",
    "\n",
    "import numpy as np\n",
    "import plotly.graph_objects as go\n",
    "from sklearn.linear_model import LinearRegression\n",
    "from sklearn.preprocessing import PolynomialFeatures\n",
    "\n",
    "# 1. Genera i dati\n",
    "np.random.seed(0)\n",
    "x = np.linspace(-3, 3, 100)\n",
    "y = x**3 - x + np.random.normal(0, 3, size=x.shape)\n",
    "\n",
    "# App Dash\n",
    "app = dash.Dash(__name__)\n",
    "app.title = \"Regressione polinomiale interattiva\"\n",
    "\n",
    "app.layout = html.Div([\n",
    "    html.H2(\"Regressione polinomiale interattiva\"),\n",
    "    dcc.Slider(\n",
    "        id='grado_slider',\n",
    "        min=1,\n",
    "        max=10,\n",
    "        step=1,\n",
    "        value=3,\n",
    "        marks={i: f\"Grado {i}\" for i in range(1, 11)}\n",
    "    ),\n",
    "    dcc.Graph(id='grafico')\n",
    "])\n",
    "\n",
    "@app.callback(\n",
    "    Output('grafico', 'figure'),\n",
    "    Input('grado_slider', 'value')\n",
    ")\n",
    "def aggiorna_grafico(grado):\n",
    "    # 2. Modello polinomiale\n",
    "    X = x.reshape(-1, 1)\n",
    "    poly = PolynomialFeatures(degree=grado)\n",
    "    X_poly = poly.fit_transform(X)\n",
    "    \n",
    "    model = LinearRegression()\n",
    "    model.fit(X_poly, y)\n",
    "    y_pred = model.predict(X_poly)\n",
    "\n",
    "    # 3. Grafico con Plotly\n",
    "    fig = go.Figure()\n",
    "    fig.add_trace(go.Scatter(x=x, y=y, mode='markers', name='Dati reali'))\n",
    "    fig.add_trace(go.Scatter(x=x, y=y_pred, mode='lines', name=f'Polinomio grado {grado}'))\n",
    "    fig.update_layout(\n",
    "        xaxis_title='x',\n",
    "        yaxis_title='y',\n",
    "        title=f\"Regressione polinomiale - Grado {grado}\"\n",
    "    )\n",
    "    return fig\n",
    "\n",
    "# Avvia il server\n",
    "if __name__ == '__main__':\n",
    "    app.run(debug=True)\n"
   ]
  }
 ],
 "metadata": {
  "kernelspec": {
   "display_name": "base",
   "language": "python",
   "name": "python3"
  },
  "language_info": {
   "codemirror_mode": {
    "name": "ipython",
    "version": 3
   },
   "file_extension": ".py",
   "mimetype": "text/x-python",
   "name": "python",
   "nbconvert_exporter": "python",
   "pygments_lexer": "ipython3",
   "version": "3.12.3"
  }
 },
 "nbformat": 4,
 "nbformat_minor": 5
}
