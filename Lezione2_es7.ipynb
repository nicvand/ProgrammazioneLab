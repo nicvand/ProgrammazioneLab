{
 "cells": [
  {
   "cell_type": "markdown",
   "metadata": {},
   "source": [
    "### **7. Analisi di una matrice**\n",
    "Data la matrice survey con età, reddito e anni di istruzione\n",
    "\n",
    "survey_matrix = np.array([\n",
    "    [25, 40000, 10],\n",
    "    [32, 52000, 12],\n",
    "    [40, 63000, 14],\n",
    "    [29, 47000, 11],\n",
    "    [35, 58000, 13]\n",
    "])\n",
    "\n",
    "\n",
    "1. Seleziona dalla matrice solo gli intervistati con **almeno 12 anni di istruzione** utilizzando un test logico.\n",
    "\n",
    "2. In un'unica riga di codice, seleziona i **redditi** degli intervistati con **almeno 12 anni di istruzione**.\n",
    "\n",
    "3. In un'unica riga di codice, calcola il **reddito medio** degli intervistati con **almeno 12 anni di istruzione**.\n"
   ]
  },
  {
   "cell_type": "code",
   "execution_count": null,
   "metadata": {},
   "outputs": [
    {
     "name": "stdout",
     "output_type": "stream",
     "text": [
      "Intervistati con almeno 12 anni di istruzione:\n",
      " [[   32 52000    12]\n",
      " [   40 63000    14]\n",
      " [   35 58000    13]]\n",
      "\n",
      "Redditi corrispondenti:\n",
      " [52000 63000 58000]\n",
      "\n",
      "Reddito medio:\n",
      " 57666.67\n"
     ]
    }
   ],
   "source": [
    "import numpy as np\n",
    "\n",
    "# Matrice survey\n",
    "survey_matrix = np.array([[25, 40000, 10], [32, 52000, 12], [40, 63000, 14], [29, 47000, 11], [35, 58000, 13]])\n",
    "\n",
    "# 1. Seleziona solo gli intervistati con almeno 12 anni di istruzione\n",
    "filtro = survey_matrix[:, 2] >= 12\n",
    "intervistati_istr = survey_matrix[filtro]\n",
    "print(\"Intervistati con almeno 12 anni di istruzione:\\n\", intervistati_istr)\n",
    "\n",
    "# 2. In un'unica riga: seleziona i redditi degli intervistati con almeno 12 anni di istruzione\n",
    "redditi_istr = survey_matrix[survey_matrix[:, 2] >= 12, 1]\n",
    "print(\"\\nRedditi corrispondenti:\\n\", redditi_istr)\n",
    "\n",
    "# 3. In un'unica riga: calcola il reddito medio degli intervistati con almeno 12 anni di istruzione\n",
    "reddito_medio = np.mean(survey_matrix[survey_matrix[:, 2] >= 12, 1])\n",
    "print(\"\\nReddito medio:\\n\", round(reddito_medio, 2))\n"
   ]
  }
 ],
 "metadata": {
  "kernelspec": {
   "display_name": "base",
   "language": "python",
   "name": "python3"
  },
  "language_info": {
   "codemirror_mode": {
    "name": "ipython",
    "version": 3
   },
   "file_extension": ".py",
   "mimetype": "text/x-python",
   "name": "python",
   "nbconvert_exporter": "python",
   "pygments_lexer": "ipython3",
   "version": "3.12.3"
  }
 },
 "nbformat": 4,
 "nbformat_minor": 2
}
