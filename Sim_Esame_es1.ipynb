{
 "cells": [
  {
   "cell_type": "markdown",
   "id": "9fe951e1",
   "metadata": {},
   "source": [
    "# Simulazione d'esame Laboratorio di Programmazione 2"
   ]
  },
  {
   "cell_type": "markdown",
   "id": "81166829",
   "metadata": {},
   "source": [
    "## Esercizio 1\n",
    "\n",
    "1. Crea un vettore NumPy con i seguenti **canoni mensili d'affitto** (in euro) per 4 appartamenti: **720, 980, 650, 1200**\n",
    "\n",
    "2. Calcola la **spesa totale mensile** sostenuta dagli inquilini.\n",
    "\n",
    "3. Il proprietario dell'appartamento da **1200 €** decide di **aumentare l’affitto del 12%**.\n",
    "    - Modifica il vettore per applicare l’aumento.\n",
    "    - L’importo aggiornato deve essere esattamente **1344,00 €**, controlla se appare **esattamente** nel tuo array.\n",
    "\n",
    "\n",
    "4. L'inquilino dell'appartamento da **650 €** ottiene uno **sconto del 10%**.\n",
    "    - Applica la modifica.\n",
    "\n",
    "5. Gli altri due appartamenti (**720 € e 980 €**) subiscono un **aumento del 5%**.\n",
    "    - Aggiorna il vettore di conseguenza.\n",
    "\n",
    "7. Calcola la **nuova spesa totale mensile** dopo tutti i cambiamenti.\n",
    "\n",
    "8. Infine: quanto ha influito **l’aumento dell’affitto più alto** sulla spesa complessiva?\n",
    "\n",
    "    (Suggerimento: confronta la spesa totale **prima di qualsiasi modifica** e **dopo il solo aumento del canone a 1200 €**.)\n"
   ]
  },
  {
   "cell_type": "code",
   "execution_count": 4,
   "id": "bd5fe7c7",
   "metadata": {},
   "outputs": [
    {
     "name": "stdout",
     "output_type": "stream",
     "text": [
      "Affitti iniziali: [ 720  980  650 1200]\n",
      "Spesa totale mensile: 3550\n",
      "\n",
      "Dopo aumento 12% su 1200€: [ 720  980  650 1344]\n",
      "Controllo: importo aggiornato correttamente a 1344.00 €\n",
      "\n",
      "Dopo sconto 10% su 650€: [ 720  980  585 1344]\n",
      "\n",
      "Dopo aumento 5% su 720€ e 980€: [ 756 1029  585 1344]\n",
      "\n",
      "Nuova spesa totale mensile: 3714\n",
      "\n",
      "Impatto dell'aumento del solo affitto da 1200€: 144.00 €\n"
     ]
    }
   ],
   "source": [
    "import numpy as np\n",
    "\n",
    "# 1. Crea il vettore con i canoni iniziali\n",
    "affitti = np.array([720, 980, 650, 1200])\n",
    "print(\"Affitti iniziali:\", affitti)\n",
    "\n",
    "# 2. Calcola la spesa totale mensile iniziale\n",
    "spesa_iniziale = affitti.sum()\n",
    "print(\"Spesa totale mensile:\", spesa_iniziale)\n",
    "\n",
    "# 3. Aumento del 12% su affitto da 1200€\n",
    "indice_1200 = np.where(affitti == 1200)[0][0]\n",
    "affitti[indice_1200] *= 1.12\n",
    "affitti[indice_1200] = round(affitti[indice_1200], 2)\n",
    "print(\"\\nDopo aumento 12% su 1200€:\", affitti)\n",
    "assert affitti[indice_1200] == 1344.00, \"Errore: l'importo non è esattamente 1344.00 €\"\n",
    "print(\"Controllo: importo aggiornato correttamente a 1344.00 €\")\n",
    "\n",
    "# 4. Sconto 10% su affitto da 650€\n",
    "indice_650 = np.where(affitti == 650)[0]\n",
    "if indice_650.size > 0:\n",
    "    affitti[indice_650[0]] *= 0.90\n",
    "    affitti[indice_650[0]] = round(affitti[indice_650[0]], 2)\n",
    "print(\"\\nDopo sconto 10% su 650€:\", affitti)\n",
    "\n",
    "# 5. Aumento 5% su affitti da 720€ e 980€\n",
    "for valore in [720, 980]:\n",
    "    indice = np.where(np.isclose(affitti, valore))[0]\n",
    "    if indice.size > 0:\n",
    "        affitti[indice[0]] *= 1.05\n",
    "        affitti[indice[0]] = round(affitti[indice[0]], 2)\n",
    "print(\"\\nDopo aumento 5% su 720€ e 980€:\", affitti)\n",
    "\n",
    "# 6. Calcola nuova spesa totale\n",
    "spesa_finale = affitti.sum()\n",
    "print(\"\\nNuova spesa totale mensile:\", spesa_finale)\n",
    "\n",
    "# 7. Confronta prima e dopo il solo aumento del canone da 1200€\n",
    "affitti_con_solo_1200 = np.array([720, 980, 650, 1344.00])\n",
    "spesa_solo_1200 = affitti_con_solo_1200.sum()\n",
    "delta = spesa_solo_1200 - spesa_iniziale\n",
    "print(f\"\\nImpatto dell'aumento del solo affitto da 1200€: {delta:.2f} €\")\n"
   ]
  }
 ],
 "metadata": {
  "kernelspec": {
   "display_name": "base",
   "language": "python",
   "name": "python3"
  },
  "language_info": {
   "codemirror_mode": {
    "name": "ipython",
    "version": 3
   },
   "file_extension": ".py",
   "mimetype": "text/x-python",
   "name": "python",
   "nbconvert_exporter": "python",
   "pygments_lexer": "ipython3",
   "version": "3.12.3"
  }
 },
 "nbformat": 4,
 "nbformat_minor": 5
}
