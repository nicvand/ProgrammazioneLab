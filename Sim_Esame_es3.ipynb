{
 "cells": [
  {
   "cell_type": "markdown",
   "id": "9fe951e1",
   "metadata": {},
   "source": [
    "# Simulazione d'esame Laboratorio di Programmazione 2"
   ]
  },
  {
   "cell_type": "markdown",
   "id": "f951cbf4",
   "metadata": {},
   "source": [
    "## Esercizio 3\n",
    "\n",
    "Genera un array `a` di dimensioni **5 x 9** contenente numeri da una distribuzione gaussiana con media 0 e dev standard 1.  \n",
    "Per ogni riga, seleziona il numero **più vicino a 0.1**.\n",
    "Imposta il seed per la riproducibilità `np.random.seed(42)`\n",
    "\n",
    " *Suggerimento*: per ottenere `a[i, j]`, l'array `i` deve contenere gli **indici di riga** corrispondenti agli elementi in `j`.\n"
   ]
  },
  {
   "cell_type": "code",
   "execution_count": 2,
   "id": "bd5fe7c7",
   "metadata": {},
   "outputs": [
    {
     "name": "stdout",
     "output_type": "stream",
     "text": [
      "Array a:\n",
      " [[ 0.49671415 -0.1382643   0.64768854  1.52302986 -0.23415337 -0.23413696\n",
      "   1.57921282  0.76743473 -0.46947439]\n",
      " [ 0.54256004 -0.46341769 -0.46572975  0.24196227 -1.91328024 -1.72491783\n",
      "  -0.56228753 -1.01283112  0.31424733]\n",
      " [-0.90802408 -1.4123037   1.46564877 -0.2257763   0.0675282  -1.42474819\n",
      "  -0.54438272  0.11092259 -1.15099358]\n",
      " [ 0.37569802 -0.60063869 -0.29169375 -0.60170661  1.85227818 -0.01349722\n",
      "  -1.05771093  0.82254491 -1.22084365]\n",
      " [ 0.2088636  -1.95967012 -1.32818605  0.19686124  0.73846658  0.17136828\n",
      "  -0.11564828 -0.3011037  -1.47852199]]\n",
      "\n",
      "Valori più vicini a 0.1 per ogni riga:\n",
      " [-0.1382643   0.24196227  0.11092259 -0.01349722  0.17136828]\n"
     ]
    }
   ],
   "source": [
    "import numpy as np\n",
    "\n",
    "# Seed per la riproducibilità\n",
    "np.random.seed(42)\n",
    "\n",
    "# Crea l'array 5x9 da distribuzione normale (media 0, std 1)\n",
    "a = np.random.normal(loc=0, scale=1, size=(5, 9))\n",
    "print(\"Array a:\\n\", a)\n",
    "\n",
    "# Calcola la distanza da 0.1 per ogni elemento\n",
    "distanza = np.abs(a - 0.1)\n",
    "\n",
    "# Trova gli indici del valore più vicino a 0.1 per ogni riga\n",
    "indici_colonna = np.argmin(distanza, axis=1)\n",
    "\n",
    "# Crea array di indici di riga corrispondenti\n",
    "indici_riga = np.arange(a.shape[0])\n",
    "\n",
    "# Estrai i valori corrispondenti\n",
    "valori_vicini = a[indici_riga, indici_colonna]\n",
    "\n",
    "print(\"\\nValori più vicini a 0.1 per ogni riga:\\n\", valori_vicini)\n"
   ]
  }
 ],
 "metadata": {
  "kernelspec": {
   "display_name": "base",
   "language": "python",
   "name": "python3"
  },
  "language_info": {
   "codemirror_mode": {
    "name": "ipython",
    "version": 3
   },
   "file_extension": ".py",
   "mimetype": "text/x-python",
   "name": "python",
   "nbconvert_exporter": "python",
   "pygments_lexer": "ipython3",
   "version": "3.12.3"
  }
 },
 "nbformat": 4,
 "nbformat_minor": 5
}
