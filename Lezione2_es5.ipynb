{
 "cells": [
  {
   "cell_type": "markdown",
   "metadata": {},
   "source": [
    "### **5. Manipolazione di vettori**\n",
    "\n",
    "1. Creare un vettore contenente i seguenti stipendi: **50.000, 105.250, 55.000, 89.000**.  \n",
    "Qual è il costo totale del personale (somma di tutti gli stipendi dell'azienda)?\n",
    "\n",
    "2. Supponiamo che il nostro malvagio CEO abbia deciso di darsi un aumento.  \n",
    "Modifica il vettore degli stipendi in modo che il CEO, la persona che guadagna **105.250 dollari**, riceva un aumento del **15%**.\n",
    "\n",
    "3. Il **115%** di **105.250 dollari** è **121.037,50 dollari**.  \n",
    "Questo valore è presente nel tuo array? Se no, riesci a capire il motivo?\n",
    "\n",
    "4. Ricrea il vettore e utilizza l'argomento **`dtype`** in modo che, quando il CEO riceve un aumento del **15%**, il suo stipendio finale sia esattamente **121.037,50 dollari**.\n",
    "\n",
    "5. Questo aumento ha infastidito l'impiegata con lo stipendio più basso (**50.000 dollari**), che ora pretende un aumento del **20%**.  \n",
    "Modifica il vettore per riflettere questo cambiamento.\n",
    "\n",
    "6. L'aumento dato al CEO e all'impiegata ha irritato gli altri due dipendenti, quindi ora devono ricevere un aumento del **10%**.  \n",
    "Modifica il vettore di conseguenza.\n",
    "\n",
    "7. Calcola il **costo totale del personale** dopo tutti gli aumenti.  \n",
    "Alla fine, quanto è costato all'azienda l'aumento di circa **16.000 dollari** del CEO?\n"
   ]
  },
  {
   "cell_type": "code",
   "execution_count": 1,
   "metadata": {},
   "outputs": [
    {
     "name": "stdout",
     "output_type": "stream",
     "text": [
      "1. Costo totale iniziale: 299250\n",
      "2. Stipendio CEO dopo aumento del 15%: 121037\n",
      "3. 121037.5 presente nel vettore? False\n",
      "4. Aumento preciso CEO: 121037.49999999999\n",
      "5. Aumento per impiegata con stipendio minimo: 60000.0\n",
      "6. Stipendi dopo aumenti generali: [ 60000.  121037.5  60500.   97900. ]\n",
      "7. Costo totale finale: 339437.5\n",
      "   Aumento effettivo del CEO: 15787.499999999985\n"
     ]
    }
   ],
   "source": [
    "import numpy as np\n",
    "\n",
    "# 1. Crea il vettore degli stipendi\n",
    "stipendi = np.array([50000, 105250, 55000, 89000])\n",
    "print(\"1. Costo totale iniziale:\", np.sum(stipendi))\n",
    "\n",
    "# 2. Aumento 15% per il CEO dallo stipendio di partenza di 105250\n",
    "aumento_ceo = np.where(stipendi == 105250)[0][0]\n",
    "stipendi[aumento_ceo] = stipendi[aumento_ceo] * 1.15\n",
    "print(\"2. Stipendio CEO dopo aumento del 15%:\", stipendi[aumento_ceo])\n",
    "\n",
    "# 3. Verifica se 121037.5 è presente\n",
    "print(\"3. 121037.5 presente nel vettore?\", 121037.5 in stipendi)\n",
    "\n",
    "# 4. Ricrea il vettore con dtype=float\n",
    "stipendi = np.array([50000, 105250, 55000, 89000], dtype=np.float64)\n",
    "stipendi[aumento_ceo] *= 1.15\n",
    "print(\"4. Aumento preciso CEO:\", stipendi[aumento_ceo])\n",
    "\n",
    "# 5. Aumento del 20% per chi guadagnava 50000\n",
    "indice_min = np.where(stipendi == 50000)[0][0]\n",
    "stipendi[indice_min] *= 1.2\n",
    "print(\"5. Aumento per impiegata con stipendio minimo:\", stipendi[indice_min])\n",
    "\n",
    "# 6. Aumento del 10% per gli altri due dipendenti\n",
    "altri = [i for i in range(len(stipendi)) if i not in [aumento_ceo, indice_min]]\n",
    "stipendi[altri] *= 1.1\n",
    "print(\"6. Stipendi dopo aumenti generali:\", stipendi)\n",
    "\n",
    "# 7. Costo totale del personale e quanto è costato l’aumento del CEO\n",
    "costo_totale = np.sum(stipendi)\n",
    "aumento_ceo = stipendi[aumento_ceo] - 105250\n",
    "print(\"7. Costo totale finale:\", costo_totale)\n",
    "print(\"   Aumento effettivo del CEO:\", aumento_ceo)"
   ]
  }
 ],
 "metadata": {
  "kernelspec": {
   "display_name": "base",
   "language": "python",
   "name": "python3"
  },
  "language_info": {
   "codemirror_mode": {
    "name": "ipython",
    "version": 3
   },
   "file_extension": ".py",
   "mimetype": "text/x-python",
   "name": "python",
   "nbconvert_exporter": "python",
   "pygments_lexer": "ipython3",
   "version": "3.12.3"
  }
 },
 "nbformat": 4,
 "nbformat_minor": 2
}
