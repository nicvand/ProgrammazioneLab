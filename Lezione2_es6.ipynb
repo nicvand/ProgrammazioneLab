{
 "cells": [
  {
   "cell_type": "markdown",
   "metadata": {},
   "source": [
    "### **6. Valori di Co2**\n",
    "\n",
    "1. Carica tramite numpy il file generato e salvato a lezione sulle emissioni di CO2\n",
    "\n",
    "2. Calcola quanti valori ci CO2 sono sopra la soglia di 18  tonnellate per anno ed il loro valore medio\n",
    "\n",
    "3. Calcola la frazione totale di emissione sopra la soglia (somma totale sopra la soglia/somma totale)"
   ]
  },
  {
   "cell_type": "code",
   "execution_count": 2,
   "metadata": {},
   "outputs": [
    {
     "name": "stdout",
     "output_type": "stream",
     "text": [
      "Numero di valori sopra 18: 25\n",
      "Valore medio sopra soglia: 19.07\n",
      "Frazione di emissione sopra soglia: 0.2129\n"
     ]
    }
   ],
   "source": [
    "import numpy as np\n",
    "\n",
    "# 1. Carica i dati CO₂ (incollati manualmente dal file Emissioni.docx)\n",
    "co2 = np.array([19.70, 5.17, 4.57, 8.79, 10.18, 4.55, 5.31, 8.46, 14.14, 14.19, 19.18,\n",
    "    5.07, 8.06, 5.74, 9.29, 8.16, 16.10, 19.97, 10.33, 16.00, 5.60, 4.70, 4.65, 6.93,\n",
    "    17.24, 19.13, 7.91, 13.03, 6.38, 11.47, 12.29, 9.77, 13.91, 14.60, 19.82, 5.33,\n",
    "    16.38, 10.35, 9.78, 4.33, 17.44, 17.96, 6.17, 5.46, 8.98, 7.92, 4.54, 14.65,\n",
    "    18.25, 15.98, 9.69, 10.61, 5.62, 4.01, 14.08, 18.12, 7.12, 7.44, 12.22, 4.76,\n",
    "    6.20, 13.72, 11.75, 12.66, 11.42, 18.75, 4.06, 4.48, 10.33, 14.80, 8.71, 7.12,\n",
    "    13.58, 4.42, 4.94, 18.14, 5.86, 6.07, 16.22, 11.59, 6.46, 12.82, 6.33, 6.30,\n",
    "    6.22, 9.00, 16.49, 7.78, 18.81, 7.18, 8.06, 4.70, 14.35, 13.51, 10.94, 18.62,\n",
    "    12.88, 9.77, 7.96, 14.03, 10.79, 12.76, 19.11, 17.58, 17.31, 11.46, 11.34, 4.16,\n",
    "    16.34, 11.64, 4.02, 16.16, 13.64, 4.93, 16.24, 10.83, 8.31, 16.80, 19.20, 9.08,\n",
    "    7.09, 19.38, 9.52, 6.38, 17.00, 4.07, 4.04, 9.92, 13.31, 19.30, 6.67, 11.56,\n",
    "    18.45, 17.71, 7.76, 10.98, 6.36, 16.76, 9.27, 10.16, 4.78, 4.98, 8.39, 16.38,\n",
    "    19.21, 4.01, 13.54, 17.40, 16.13, 9.58, 5.84, 18.00, 19.63, 12.41, 12.60,\n",
    "    10.36, 18.35, 7.70, 18.64, 7.33, 16.15, 15.98, 14.73, 19.94, 11.72, 5.08,\n",
    "    8.69, 11.19, 15.79, 6.82, 18.94, 4.92, 7.91, 11.31, 6.35, 15.22, 14.21, 8.26,\n",
    "    11.32, 4.26, 15.24, 19.61, 9.28, 5.45, 7.36, 10.31, 6.18, 6.43, 15.53, 16.56,\n",
    "    19.83, 10.34, 18.58, 6.90, 5.60, 12.62, 15.21, 14.64, 4.28, 12.91])\n",
    "\n",
    "# 2. Calcola i valori sopra soglia 18 e la loro media\n",
    "sopra_soglia = co2[co2 > 18]\n",
    "conteggio = sopra_soglia.size\n",
    "print(\"Numero di valori sopra 18:\", conteggio)\n",
    "media_sopra_soglia = np.mean(sopra_soglia)\n",
    "print(\"Valore medio sopra soglia:\", round(media_sopra_soglia, 2))\n",
    "\n",
    "# 3. Frazione del totale sopra la soglia\n",
    "frazione_sopra = np.sum(sopra_soglia) / np.sum(co2)\n",
    "print(\"Frazione di emissione sopra soglia:\", round(frazione_sopra, 4))"
   ]
  }
 ],
 "metadata": {
  "kernelspec": {
   "display_name": "base",
   "language": "python",
   "name": "python3"
  },
  "language_info": {
   "codemirror_mode": {
    "name": "ipython",
    "version": 3
   },
   "file_extension": ".py",
   "mimetype": "text/x-python",
   "name": "python",
   "nbconvert_exporter": "python",
   "pygments_lexer": "ipython3",
   "version": "3.12.3"
  }
 },
 "nbformat": 4,
 "nbformat_minor": 2
}
