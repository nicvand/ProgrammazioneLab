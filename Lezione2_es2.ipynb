{
 "cells": [
  {
   "cell_type": "markdown",
   "metadata": {},
   "source": [
    "### **2.  Operazioni su array**\n",
    "Crea un array **a**, 2D (senza digitarlo esplicitamente), e genera due nuovi array **b**, contenente la sua 2ª e 4ª riga, e **c** contenente solo la 3ª.  Dividi ogni colonna dell'array a, elemento per elemento, con l'array c."
   ]
  },
  {
   "cell_type": "code",
   "execution_count": 12,
   "metadata": {},
   "outputs": [
    {
     "ename": "ModuleNotFoundError",
     "evalue": "No module named 'numpy'",
     "output_type": "error",
     "traceback": [
      "\u001b[31m---------------------------------------------------------------------------\u001b[39m",
      "\u001b[31mModuleNotFoundError\u001b[39m                       Traceback (most recent call last)",
      "\u001b[36mCell\u001b[39m\u001b[36m \u001b[39m\u001b[32mIn[12]\u001b[39m\u001b[32m, line 1\u001b[39m\n\u001b[32m----> \u001b[39m\u001b[32m1\u001b[39m \u001b[38;5;28;01mimport\u001b[39;00m\u001b[38;5;250m \u001b[39m\u001b[34;01mnumpy\u001b[39;00m\u001b[38;5;250m \u001b[39m\u001b[38;5;28;01mas\u001b[39;00m\u001b[38;5;250m \u001b[39m\u001b[34;01mnp\u001b[39;00m\n\u001b[32m      3\u001b[39m \u001b[38;5;66;03m# 1. Crea un array a\u001b[39;00m\n\u001b[32m      4\u001b[39m a = np.arange(\u001b[32m15\u001b[39m).reshape(\u001b[32m5\u001b[39m, \u001b[32m3\u001b[39m)\n",
      "\u001b[31mModuleNotFoundError\u001b[39m: No module named 'numpy'"
     ]
    }
   ],
   "source": [
    "import numpy as np\n",
    "\n",
    "# 1. Crea un array a\n",
    "a = np.arange(15).reshape(5, 3)\n",
    "print(\"Array a:\\n\", a)\n",
    "\n",
    "# 2. Array b con la seconda e la quarta riga di a\n",
    "b = a[1:4:2,]\n",
    "print(\"Array b (2ª e 4ª riga):\\n\", b)\n",
    "\n",
    "# 3. Array c con la terza riga di a\n",
    "c = a[2,]\n",
    "print(\"Array c (3ª riga):\\n\", c)\n",
    "\n",
    "# 4. Divisione\n",
    "print(\"Divisione a / c:\\n\", a/c)"
   ]
  }
 ],
 "metadata": {
  "kernelspec": {
   "display_name": "base",
   "language": "python",
   "name": "python3"
  },
  "language_info": {
   "codemirror_mode": {
    "name": "ipython",
    "version": 3
   },
   "file_extension": ".py",
   "mimetype": "text/x-python",
   "name": "python",
   "nbconvert_exporter": "python",
   "pygments_lexer": "ipython3",
   "version": "3.12.3"
  }
 },
 "nbformat": 4,
 "nbformat_minor": 2
}
