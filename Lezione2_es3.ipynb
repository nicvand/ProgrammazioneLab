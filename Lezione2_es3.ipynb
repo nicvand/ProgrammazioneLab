{
 "cells": [
  {
   "cell_type": "markdown",
   "metadata": {},
   "source": [
    "### **3. Seleziona il numero più vicino a 0.5 in un array casuale**\n",
    "Genera un array 10 x 3 con numeri casuali nell'intervallo [0,1].\n",
    "Per ogni riga, seleziona il numero più vicino a 0.5. Per farlo usa il fancy indexing."
   ]
  },
  {
   "cell_type": "code",
   "execution_count": 7,
   "metadata": {},
   "outputs": [
    {
     "name": "stdout",
     "output_type": "stream",
     "text": [
      "Array a:\n",
      " [[0.33603644 0.06174883 0.77688098]\n",
      " [0.99076581 0.01195246 0.68402474]\n",
      " [0.7246036  0.27260688 0.30946505]\n",
      " [0.5048304  0.85899783 0.61646766]\n",
      " [0.44967359 0.47604826 0.20755121]\n",
      " [0.17181681 0.51672702 0.1702402 ]\n",
      " [0.34444909 0.21427584 0.3573681 ]\n",
      " [0.79602556 0.8365109  0.15488868]\n",
      " [0.62037802 0.40363195 0.13936272]\n",
      " [0.69241026 0.34899471 0.55261802]]\n",
      "\n",
      "Valori più vicini a 0.5:\n",
      " [0.33603644 0.68402474 0.30946505 0.5048304  0.47604826 0.51672702\n",
      " 0.3573681  0.79602556 0.40363195 0.55261802]\n"
     ]
    }
   ],
   "source": [
    "import numpy as np\n",
    "\n",
    "a = np.random.rand(10,3)\n",
    "print(\"Array a:\\n\", a)\n",
    "\n",
    "col = np.abs(a - 0.5).argmin(axis=1)\n",
    "righe = np.arange(10)\n",
    "b = a[righe, col]\n",
    "print(\"\\nValori più vicini a 0.5:\\n\", b)"
   ]
  }
 ],
 "metadata": {
  "kernelspec": {
   "display_name": "base",
   "language": "python",
   "name": "python3"
  },
  "language_info": {
   "codemirror_mode": {
    "name": "ipython",
    "version": 3
   },
   "file_extension": ".py",
   "mimetype": "text/x-python",
   "name": "python",
   "nbconvert_exporter": "python",
   "pygments_lexer": "ipython3",
   "version": "3.12.3"
  }
 },
 "nbformat": 4,
 "nbformat_minor": 2
}
