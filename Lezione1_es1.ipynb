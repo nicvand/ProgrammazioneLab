{
 "cells": [
  {
   "cell_type": "markdown",
   "metadata": {},
   "source": [
    "### **1. Trasformare cicli in list comprehension**\n",
    "\n",
    "Fai tre esempi di cicli producono una lista e poi riscrivi lo stesso codice usando la list comprehension"
   ]
  },
  {
   "cell_type": "code",
   "execution_count": null,
   "metadata": {},
   "outputs": [],
   "source": [
    "# 1. Lista contenente numeri da 0 a 9\n",
    "# Ciclo: \n",
    "lista = []\n",
    "for i in range(20):\n",
    "    lista.append(i)\n",
    "print(lista)\n",
    "\n",
    "# List comprehension\n",
    "listaC = [i for i in range(20)]\n",
    "print(listaC)"
   ]
  },
  {
   "cell_type": "code",
   "execution_count": null,
   "metadata": {},
   "outputs": [],
   "source": [
    "# 2. Lista contenente i primi 5 multipli pari di 3\n",
    "# Ciclo:\n",
    "#MODIFICARE\n",
    "\n",
    "multipli_pari = []\n",
    "numero = 0\n",
    "while len(multipli_pari) < 5:\n",
    "    if numero % 6 == 0:  # Multiplo di 2 e 3\n",
    "        multipli_pari.append(numero)\n",
    "    numero += 1\n",
    "print(multipli_pari)\n",
    "\n",
    "# List comprehension:\n",
    "multipli_pariC = [n for n in range(0, 100) if n % 6 == 0][:5]\n",
    "print(multipli_pariC)"
   ]
  },
  {
   "cell_type": "code",
   "execution_count": null,
   "metadata": {},
   "outputs": [],
   "source": [
    "# 3. Lista contenente le parole della lista elenco che hanno più di cinque lettere\n",
    "# Ciclo:\n",
    "elenco = [\"patate\", \"ciao\", \"computer\", \"telo\", \"spiaggia\"]\n",
    "lista = []\n",
    "for elemento in elenco:\n",
    "    if len(elemento) > 5:\n",
    "        lista.append(elemento)\n",
    "print(lista)\n",
    "\n",
    "# List comprehension:\n",
    "listaC = [elemento for elemento in elenco if len(elemento) > 5]\n",
    "print(listaC)"
   ]
  }
 ],
 "metadata": {
  "kernelspec": {
   "display_name": "base",
   "language": "python",
   "name": "python3"
  },
  "language_info": {
   "codemirror_mode": {
    "name": "ipython",
    "version": 3
   },
   "file_extension": ".py",
   "mimetype": "text/x-python",
   "name": "python",
   "nbconvert_exporter": "python",
   "pygments_lexer": "ipython3",
   "version": "3.12.7"
  }
 },
 "nbformat": 4,
 "nbformat_minor": 2
}
