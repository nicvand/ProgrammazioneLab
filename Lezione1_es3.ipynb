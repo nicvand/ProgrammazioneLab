{
 "cells": [
  {
   "cell_type": "markdown",
   "metadata": {},
   "source": [
    "### **3.  Operazioni su array**\n",
    "Crea un array **a**, 1D (senza digitarlo esplicitamente), e genera due nuovi array **b**, contenente una sottostringa a piacere e **c** che è il reverse dell'array **a** (esempio [1,2,3] diventa [3,2,1]) .  Dividi l'array **a** per l'array **c**. Fai la stessa cosa per una lista."
   ]
  },
  {
   "cell_type": "code",
   "execution_count": null,
   "metadata": {},
   "outputs": [],
   "source": [
    "import numpy as np\n",
    "\n",
    "vettore = [] # Lista\n",
    "for i in range(1, 11):\n",
    "    vettore.append(i)\n",
    "\n",
    "a = np.array(vettore) # Passo la lista\n",
    "print(a)\n",
    "\n",
    "b = a[0:-3] # Deriva da a, non devo fare np.array()\n",
    "# Slicing\n",
    "print(b)\n",
    "\n",
    "c = np.flip(a) # oppure a[::-1]\n",
    "print(c)\n",
    "\n",
    "print(a/c) # Divisione facilitata (non servono cicli)\n",
    "\n",
    "# con le liste\n",
    "a1 = []\n",
    "for i in range(1, 11):\n",
    "    a1.append(i)\n",
    "print(a1)\n",
    "\n",
    "b1 = a[0:-3] # Slicing\n",
    "print(b1)\n",
    "\n",
    "# Uso metodi delle liste di Python\n",
    "c1=a1.copy()\n",
    "c1.reverse()\n",
    "print(c1)\n",
    "\n",
    "inverso = []\n",
    "for i in range(10): # Devo scorrere elemento per elemento\n",
    "    inverso.append((a1[i]/c1[i]))\n",
    "print(inverso)"
   ]
  }
 ],
 "metadata": {
  "kernelspec": {
   "display_name": "base",
   "language": "python",
   "name": "python3"
  },
  "language_info": {
   "codemirror_mode": {
    "name": "ipython",
    "version": 3
   },
   "file_extension": ".py",
   "mimetype": "text/x-python",
   "name": "python",
   "nbconvert_exporter": "python",
   "pygments_lexer": "ipython3",
   "version": "3.12.7"
  }
 },
 "nbformat": 4,
 "nbformat_minor": 2
}
